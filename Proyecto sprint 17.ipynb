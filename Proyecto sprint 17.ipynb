{
 "cells": [
  {
   "cell_type": "markdown",
   "metadata": {},
   "source": [
    "<b>¡Hola Daniel!</b>\n",
    "\n",
    "Mi nombre es Alejandro Abia y tengo el gusto de revisar tu proyecto.\n",
    "\n",
    "A continuación, encontrarás mis comentarios en celdas pintadas de tres colores (verde, amarillo y rojo), a manera de semáforo. Por favor, <b>no las borres ni muevas de posición</b> mientras dure el proceso de revisión.\n",
    "\n",
    "<div class=\"alert alert-block alert-success\">\n",
    "<b>Éxito</b> <a class=\"tocSkip\"></a>\n",
    "En celdas verdes encontrarás comentarios en relación a tus aciertos y fortalezas.\n",
    "</div>\n",
    "<div class=\"alert alert-block alert-warning\">\n",
    "<b>Atención</b> <a class=\"tocSkip\"></a>\n",
    "Utilizaré el color amarillo para llamar tu atención, expresar algo importante o compartirte alguna idea de valor.\n",
    "</div>\n",
    "<div class=\"alert alert-block alert-danger\">\n",
    "<b>A resolver</b> <a class=\"tocSkip\"></a>\n",
    "En rojo emitiré aquellos puntos que podrían impedir que el proyecto se ejecute correctamente. No son errores, sino oportunidades importantes de mejora.\n",
    "</div>\n",
    "<div class=\"alert alert-block alert-info\">\n",
    "<b>Comentario estudiante</b> <a class=\"tocSkip\"></a>\n",
    "Si durante la revisión deseas dejarme algún comentario, por favor utiliza celdas azules como esta.\n",
    "</div>\n",
    "Tu proyecto será considerado aprobado cuando las observaciones en rojo hayan sido atendidas.  \n",
    "¡Empecemos!\n"
   ]
  },
  {
   "cell_type": "markdown",
   "metadata": {},
   "source": [
    "## Inicialización"
   ]
  },
  {
   "cell_type": "code",
   "execution_count": 1,
   "metadata": {},
   "outputs": [],
   "source": [
    "import pandas as pd\n",
    "import tensorflow as tf\n",
    "from tensorflow.keras.preprocessing.image import ImageDataGenerator\n",
    "from tensorflow.keras.applications.resnet import ResNet50\n",
    "from tensorflow.keras.models import Sequential\n",
    "from tensorflow.keras.layers import GlobalAveragePooling2D, Dense, Dropout\n",
    "from tensorflow.keras.optimizers import Adam\n",
    "import os\n",
    "import matplotlib.pyplot as plt\n",
    "import seaborn as sns\n",
    "import inspect"
   ]
  },
  {
   "cell_type": "markdown",
   "metadata": {},
   "source": [
    "## Carga los datos"
   ]
  },
  {
   "cell_type": "markdown",
   "metadata": {},
   "source": [
    "El conjunto de datos se almacena en la carpeta `/datasets/faces/` \n",
    "- La carpeta `final_files` con 7600 fotos \n",
    "- El archivo `labels.csv` con etiquetas, con dos columnas: `file_name` y `real_age` \n",
    "Dado que el número de archivos de imágenes es bastante elevado, se recomienda evitar leerlos todos a la vez, ya que esto consumiría muchos recursos computacionales. Te recomendamos crear un generador con ImageDataGenerator. Este método se explicó en el capítulo 3, lección 7 de este curso.\n",
    "\n",
    "El archivo de etiqueta se puede cargar como un archivo CSV habitual."
   ]
  },
  {
   "cell_type": "code",
   "execution_count": 2,
   "metadata": {},
   "outputs": [
    {
     "name": "stdout",
     "output_type": "stream",
     "text": [
      "Found 6073 validated image filenames.\n",
      "Found 1518 validated image filenames.\n"
     ]
    }
   ],
   "source": [
    "labels = pd.read_csv('/datasets/faces/labels.csv')\n",
    "\n",
    "# Generador de entrenamiento con aumentos\n",
    "train_datagen = ImageDataGenerator(\n",
    "    rescale=1./255,\n",
    "    rotation_range=20,\n",
    "    width_shift_range=0.1,\n",
    "    height_shift_range=0.1,\n",
    "    shear_range=0.1,\n",
    "    zoom_range=0.1,\n",
    "    horizontal_flip=True,\n",
    "    validation_split=0.2\n",
    ")\n",
    "\n",
    "# Generador de validación sin aumentos\n",
    "val_datagen = ImageDataGenerator(\n",
    "    rescale=1./255,\n",
    "    validation_split=0.2\n",
    ")\n",
    "\n",
    "# Generador de flujo de datos de entrenamiento\n",
    "train_generator = train_datagen.flow_from_dataframe(\n",
    "    dataframe=labels,\n",
    "    directory='/datasets/faces/final_files/',\n",
    "    x_col='file_name',\n",
    "    y_col='real_age',\n",
    "    target_size=(64, 64),\n",
    "    batch_size=32,\n",
    "    class_mode='raw',\n",
    "    subset='training',\n",
    "    seed=123\n",
    ")\n",
    "\n",
    "# Generador de flujo de datos de validación\n",
    "val_generator = val_datagen.flow_from_dataframe(\n",
    "    dataframe=labels,\n",
    "    directory='/datasets/faces/final_files/',\n",
    "    x_col='file_name',\n",
    "    y_col='real_age',\n",
    "    target_size=(64, 64),\n",
    "    batch_size=32,\n",
    "    class_mode='raw',\n",
    "    subset='validation',\n",
    "    seed=123\n",
    ")"
   ]
  },
  {
   "cell_type": "markdown",
   "metadata": {},
   "source": [
    "## EDA"
   ]
  },
  {
   "cell_type": "code",
   "execution_count": 3,
   "metadata": {},
   "outputs": [
    {
     "data": {
      "text/html": [
       "<div>\n",
       "<style scoped>\n",
       "    .dataframe tbody tr th:only-of-type {\n",
       "        vertical-align: middle;\n",
       "    }\n",
       "\n",
       "    .dataframe tbody tr th {\n",
       "        vertical-align: top;\n",
       "    }\n",
       "\n",
       "    .dataframe thead th {\n",
       "        text-align: right;\n",
       "    }\n",
       "</style>\n",
       "<table border=\"1\" class=\"dataframe\">\n",
       "  <thead>\n",
       "    <tr style=\"text-align: right;\">\n",
       "      <th></th>\n",
       "      <th>file_name</th>\n",
       "      <th>real_age</th>\n",
       "    </tr>\n",
       "  </thead>\n",
       "  <tbody>\n",
       "    <tr>\n",
       "      <th>0</th>\n",
       "      <td>000000.jpg</td>\n",
       "      <td>4</td>\n",
       "    </tr>\n",
       "    <tr>\n",
       "      <th>1</th>\n",
       "      <td>000001.jpg</td>\n",
       "      <td>18</td>\n",
       "    </tr>\n",
       "    <tr>\n",
       "      <th>2</th>\n",
       "      <td>000002.jpg</td>\n",
       "      <td>80</td>\n",
       "    </tr>\n",
       "    <tr>\n",
       "      <th>3</th>\n",
       "      <td>000003.jpg</td>\n",
       "      <td>50</td>\n",
       "    </tr>\n",
       "    <tr>\n",
       "      <th>4</th>\n",
       "      <td>000004.jpg</td>\n",
       "      <td>17</td>\n",
       "    </tr>\n",
       "  </tbody>\n",
       "</table>\n",
       "</div>"
      ],
      "text/plain": [
       "    file_name  real_age\n",
       "0  000000.jpg         4\n",
       "1  000001.jpg        18\n",
       "2  000002.jpg        80\n",
       "3  000003.jpg        50\n",
       "4  000004.jpg        17"
      ]
     },
     "execution_count": 3,
     "metadata": {},
     "output_type": "execute_result"
    }
   ],
   "source": [
    "# Cargar etiquetas\n",
    "df_edad = pd.read_csv('/datasets/faces/labels.csv')\n",
    "df_edad.head()"
   ]
  },
  {
   "cell_type": "markdown",
   "metadata": {},
   "source": [
    "<div class=\"alert alert-block alert-success\">\n",
    "<b>Celda [3]</b> <a class=\"tocSkip\"></a><br>\n",
    "Has comenzado bien al cargar y mostrar las primeras filas del dataset. Esto es un paso crucial para entender la estructura de los datos, verificar que se han cargado correctamente y comenzar a familiarizarte con el contenido del dataset.\n",
    "</div>\n"
   ]
  },
  {
   "cell_type": "code",
   "execution_count": 4,
   "metadata": {},
   "outputs": [
    {
     "name": "stdout",
     "output_type": "stream",
     "text": [
      "<class 'pandas.core.frame.DataFrame'>\n",
      "RangeIndex: 7591 entries, 0 to 7590\n",
      "Data columns (total 2 columns):\n",
      " #   Column     Non-Null Count  Dtype \n",
      "---  ------     --------------  ----- \n",
      " 0   file_name  7591 non-null   object\n",
      " 1   real_age   7591 non-null   int64 \n",
      "dtypes: int64(1), object(1)\n",
      "memory usage: 118.7+ KB\n"
     ]
    }
   ],
   "source": [
    "# info del df\n",
    "df_edad.info()"
   ]
  },
  {
   "cell_type": "markdown",
   "metadata": {},
   "source": [
    "<div class=\"alert alert-block alert-warning\">\n",
    "<b>Celda [4]</b> <a class=\"tocSkip\"></a><br>\n",
    "Has revisado la información básica del DataFrame, lo cual es un buen inicio. Sería beneficioso también verificar los tipos de datos para asegurarte de que son los adecuados para el análisis posterior. Esto te ayudará a evitar problemas durante el procesamiento de datos. Si encuentras tipos de datos inesperados, puedes utilizar el método <code>astype()</code> para realizar las conversiones necesarias.\n",
    "</div>\n"
   ]
  },
  {
   "cell_type": "code",
   "execution_count": 5,
   "metadata": {},
   "outputs": [
    {
     "data": {
      "text/html": [
       "<div>\n",
       "<style scoped>\n",
       "    .dataframe tbody tr th:only-of-type {\n",
       "        vertical-align: middle;\n",
       "    }\n",
       "\n",
       "    .dataframe tbody tr th {\n",
       "        vertical-align: top;\n",
       "    }\n",
       "\n",
       "    .dataframe thead th {\n",
       "        text-align: right;\n",
       "    }\n",
       "</style>\n",
       "<table border=\"1\" class=\"dataframe\">\n",
       "  <thead>\n",
       "    <tr style=\"text-align: right;\">\n",
       "      <th></th>\n",
       "      <th>real_age</th>\n",
       "    </tr>\n",
       "  </thead>\n",
       "  <tbody>\n",
       "    <tr>\n",
       "      <th>count</th>\n",
       "      <td>7591.000000</td>\n",
       "    </tr>\n",
       "    <tr>\n",
       "      <th>mean</th>\n",
       "      <td>31.201159</td>\n",
       "    </tr>\n",
       "    <tr>\n",
       "      <th>std</th>\n",
       "      <td>17.145060</td>\n",
       "    </tr>\n",
       "    <tr>\n",
       "      <th>min</th>\n",
       "      <td>1.000000</td>\n",
       "    </tr>\n",
       "    <tr>\n",
       "      <th>25%</th>\n",
       "      <td>20.000000</td>\n",
       "    </tr>\n",
       "    <tr>\n",
       "      <th>50%</th>\n",
       "      <td>29.000000</td>\n",
       "    </tr>\n",
       "    <tr>\n",
       "      <th>75%</th>\n",
       "      <td>41.000000</td>\n",
       "    </tr>\n",
       "    <tr>\n",
       "      <th>max</th>\n",
       "      <td>100.000000</td>\n",
       "    </tr>\n",
       "  </tbody>\n",
       "</table>\n",
       "</div>"
      ],
      "text/plain": [
       "          real_age\n",
       "count  7591.000000\n",
       "mean     31.201159\n",
       "std      17.145060\n",
       "min       1.000000\n",
       "25%      20.000000\n",
       "50%      29.000000\n",
       "75%      41.000000\n",
       "max     100.000000"
      ]
     },
     "execution_count": 5,
     "metadata": {},
     "output_type": "execute_result"
    }
   ],
   "source": [
    "#Descripcion de valores importantes del df\n",
    "df_edad.describe()"
   ]
  },
  {
   "cell_type": "markdown",
   "metadata": {},
   "source": [
    "<div class=\"alert alert-block alert-success\">\n",
    "<b>Celda [5]</b> <a class=\"tocSkip\"></a><br>\n",
    "La descripción estadística que has realizado proporciona una visión general clara de la distribución de las edades en el dataset. Esto es esencial para identificar posibles valores atípicos y comprender el rango y la variabilidad de los datos, lo cual es fundamental para el análisis posterior.\n",
    "</div>\n"
   ]
  },
  {
   "cell_type": "code",
   "execution_count": 6,
   "metadata": {},
   "outputs": [
    {
     "name": "stdout",
     "output_type": "stream",
     "text": [
      "\n",
      "Número total de imágenes: 7591\n"
     ]
    }
   ],
   "source": [
    "# Dimensiones del dataset\n",
    "print(f\"\\nNúmero total de imágenes: {len(labels)}\")"
   ]
  },
  {
   "cell_type": "code",
   "execution_count": 7,
   "metadata": {},
   "outputs": [
    {
     "name": "stdout",
     "output_type": "stream",
     "text": [
      "Duplicados totales: 0\n"
     ]
    }
   ],
   "source": [
    "#Valores duplicados\n",
    "print(\"Duplicados totales:\", df_edad.duplicated().sum())"
   ]
  },
  {
   "cell_type": "markdown",
   "metadata": {},
   "source": [
    "<div class=\"alert alert-block alert-success\">\n",
    "<b>Celda [7]</b> <a class=\"tocSkip\"></a><br>\n",
    "Verificar la presencia de duplicados en el dataset es un paso importante para asegurar la integridad de los datos. Confirmar que no hay duplicados garantiza que cada entrada es única, lo que es crucial para evitar sesgos en el análisis y en el entrenamiento del modelo.\n",
    "</div>\n"
   ]
  },
  {
   "cell_type": "code",
   "execution_count": 8,
   "metadata": {},
   "outputs": [
    {
     "data": {
      "text/plain": [
       "file_name    0\n",
       "real_age     0\n",
       "dtype: int64"
      ]
     },
     "execution_count": 8,
     "metadata": {},
     "output_type": "execute_result"
    }
   ],
   "source": [
    "#Valores nulos\n",
    "df_edad.isnull().sum()"
   ]
  },
  {
   "cell_type": "markdown",
   "metadata": {},
   "source": [
    "<div class=\"alert alert-block alert-success\">\n",
    "<b>Celda [8]</b> <a class=\"tocSkip\"></a><br>\n",
    "Has realizado una verificación efectiva de valores nulos en el dataset. Asegurarte de que no hay valores nulos es esencial para mantener la calidad de los datos y para evitar problemas durante el análisis y el entrenamiento del modelo.\n",
    "</div>\n"
   ]
  },
  {
   "cell_type": "code",
   "execution_count": 9,
   "metadata": {},
   "outputs": [
    {
     "data": {
      "text/html": [
       "<div>\n",
       "<style scoped>\n",
       "    .dataframe tbody tr th:only-of-type {\n",
       "        vertical-align: middle;\n",
       "    }\n",
       "\n",
       "    .dataframe tbody tr th {\n",
       "        vertical-align: top;\n",
       "    }\n",
       "\n",
       "    .dataframe thead th {\n",
       "        text-align: right;\n",
       "    }\n",
       "</style>\n",
       "<table border=\"1\" class=\"dataframe\">\n",
       "  <thead>\n",
       "    <tr style=\"text-align: right;\">\n",
       "      <th></th>\n",
       "      <th>file_name</th>\n",
       "      <th>real_age</th>\n",
       "    </tr>\n",
       "  </thead>\n",
       "  <tbody>\n",
       "    <tr>\n",
       "      <th>0</th>\n",
       "      <td>000000.jpg</td>\n",
       "      <td>4</td>\n",
       "    </tr>\n",
       "    <tr>\n",
       "      <th>1</th>\n",
       "      <td>000001.jpg</td>\n",
       "      <td>18</td>\n",
       "    </tr>\n",
       "    <tr>\n",
       "      <th>2</th>\n",
       "      <td>000002.jpg</td>\n",
       "      <td>80</td>\n",
       "    </tr>\n",
       "    <tr>\n",
       "      <th>3</th>\n",
       "      <td>000003.jpg</td>\n",
       "      <td>50</td>\n",
       "    </tr>\n",
       "    <tr>\n",
       "      <th>4</th>\n",
       "      <td>000004.jpg</td>\n",
       "      <td>17</td>\n",
       "    </tr>\n",
       "  </tbody>\n",
       "</table>\n",
       "</div>"
      ],
      "text/plain": [
       "    file_name  real_age\n",
       "0  000000.jpg         4\n",
       "1  000001.jpg        18\n",
       "2  000002.jpg        80\n",
       "3  000003.jpg        50\n",
       "4  000004.jpg        17"
      ]
     },
     "execution_count": 9,
     "metadata": {},
     "output_type": "execute_result"
    }
   ],
   "source": [
    "df_edad.sort_values(by=\"real_age\").sum()\n",
    "df_edad.head()"
   ]
  },
  {
   "cell_type": "code",
   "execution_count": 10,
   "metadata": {},
   "outputs": [
    {
     "name": "stdout",
     "output_type": "stream",
     "text": [
      "       file_name  real_age\n",
      "1005  001005.jpg         1\n",
      "7313  007335.jpg         1\n",
      "251   000251.jpg         1\n",
      "7019  007030.jpg         1\n",
      "3099  003099.jpg         1\n",
      "       file_name  real_age\n",
      "2661  002661.jpg       100\n",
      "5806  005806.jpg        97\n",
      "6248  006252.jpg        96\n",
      "6379  006383.jpg        96\n",
      "6332  006336.jpg        95\n"
     ]
    }
   ],
   "source": [
    "# Personas más jóvenes\n",
    "print(df_edad.sort_values(by=\"real_age\").head())\n",
    "\n",
    "# Personas más viejas\n",
    "print(df_edad.sort_values(by=\"real_age\", ascending=False).head())"
   ]
  },
  {
   "cell_type": "code",
   "execution_count": 11,
   "metadata": {},
   "outputs": [
    {
     "data": {
      "image/png": "[encoded data removed]",
      "text/plain": [
       "<Figure size 1000x500 with 1 Axes>"
      ]
     },
     "metadata": {},
     "output_type": "display_data"
    }
   ],
   "source": [
    "# Histograma de la distribución de edades\n",
    "plt.figure(figsize=(10, 5))\n",
    "sns.histplot(labels['real_age'], bins=35, kde=True, color=\"yellow\")\n",
    "plt.title('Distribución de edades reales')\n",
    "plt.xlabel('Edad')\n",
    "plt.ylabel('Cantidad de imágenes')\n",
    "plt.grid(True)\n",
    "mean_age = labels['real_age'].mean() #obtener la media\n",
    "median_age = labels['real_age'].median() #obtener la mediana\n",
    "\n",
    "plt.axvline(mean_age, color='red', linestyle='--', label=f'Media: {mean_age:.1f}')\n",
    "plt.axvline(median_age, color='green', linestyle='-.', label=f'Mediana: {median_age:.1f}')\n",
    "plt.legend()\n",
    "plt.show()"
   ]
  },
  {
   "cell_type": "markdown",
   "metadata": {},
   "source": [
    "<div class=\"alert alert-block alert-warning\">\n",
    "<b>Celda [11]</b> <a class=\"tocSkip\"></a><br>\n",
    "El histograma que has creado es útil para visualizar la distribución de edades. Podrías considerar ajustar el número de bins para obtener una visualización más detallada de la distribución. Además, segmentar por grupos de edad podría ofrecerte una perspectiva más clara sobre cómo se distribuyen las edades en el dataset.\n",
    "</div>\n"
   ]
  },
  {
   "cell_type": "code",
   "execution_count": 12,
   "metadata": {},
   "outputs": [
    {
     "data": {
      "image/png": "[encoded data removed]",
      "text/plain": [
       "<Figure size 800x200 with 1 Axes>"
      ]
     },
     "metadata": {},
     "output_type": "display_data"
    }
   ],
   "source": [
    "# Caja de bigotes para identificar outliers\n",
    "plt.figure(figsize=(8, 2))\n",
    "sns.boxplot(x=labels['real_age'], color=\"yellow\")\n",
    "plt.title('Caja de bigotes de la edad')\n",
    "plt.grid(True)\n",
    "plt.show()"
   ]
  },
  {
   "cell_type": "markdown",
   "metadata": {},
   "source": [
    "<div class=\"alert alert-block alert-warning\">\n",
    "<b>Celda [12]</b> <a class=\"tocSkip\"></a><br>\n",
    "La caja de bigotes es una herramienta valiosa para identificar outliers. Podrías complementar esta visualización calculando y mostrando los valores de los percentiles extremos, como el 1% y el 99%, para entender mejor la presencia de outliers extremos en el dataset.\n",
    "</div>\n"
   ]
  },
  {
   "cell_type": "markdown",
   "metadata": {},
   "source": [
    "### Conclusiones"
   ]
  },
  {
   "cell_type": "markdown",
   "metadata": {},
   "source": [
    "##### **Con ayuda de los graficos y con datos limpios podemos visualizar que tenemos una mayor cantidad de fotos entre la edad de 20 y 40 años, teniendo la media y la mediana en el rango casi de 30 años, teniendo pocos datos anomalos, fuera del rango mostrado en la grafica de bigotes, aun que estos son de las personas con mayor edad, ya que son pocas las imagenes que se tienen con edades avanzadas.**"
   ]
  },
  {
   "cell_type": "markdown",
   "metadata": {},
   "source": [
    "## Modelado"
   ]
  },
  {
   "cell_type": "markdown",
   "metadata": {},
   "source": [
    "Define las funciones necesarias para entrenar tu modelo en la plataforma GPU y crea un solo script que las contenga todas junto con la sección de inicialización.\n",
    "\n",
    "Para facilitar esta tarea, puedes definirlas en este notebook y ejecutar un código listo en la siguiente sección para componer automáticamente el script.\n",
    "\n",
    "Los revisores del proyecto también verificarán las definiciones a continuación, para que puedan comprender cómo construiste el modelo."
   ]
  },
  {
   "cell_type": "code",
   "execution_count": 13,
   "metadata": {},
   "outputs": [],
   "source": [
    "import pandas as pd\n",
    "\n",
    "import tensorflow as tf\n",
    "\n",
    "from tensorflow.keras.preprocessing.image import ImageDataGenerator\n",
    "from tensorflow.keras.applications.resnet import ResNet50\n",
    "from tensorflow.keras.models import Sequential\n",
    "from tensorflow.keras.layers import GlobalAveragePooling2D, Dense, Dropout, Flatten\n",
    "from tensorflow.keras.optimizers import Adam"
   ]
  },
  {
   "cell_type": "code",
   "execution_count": 14,
   "metadata": {},
   "outputs": [],
   "source": [
    "def load_train(path):\n",
    "    \n",
    "    \"\"\"\n",
    "    Carga la parte de entrenamiento del conjunto de datos desde la ruta.\n",
    "    \"\"\"\n",
    "    \n",
    "    # coloca tu código aquí\n",
    "\n",
    "    return train_gen_flow"
   ]
  },
  {
   "cell_type": "code",
   "execution_count": 15,
   "metadata": {},
   "outputs": [],
   "source": [
    "def load_test(path):\n",
    "    \n",
    "    \"\"\"\n",
    "    Carga la parte de validación/prueba del conjunto de datos desde la ruta\n",
    "    \"\"\"\n",
    "    \n",
    "    # coloca tu código aquí\n",
    "    labels = pd.read_csv(os.path.join(path, 'labels.csv'))\n",
    "    \n",
    "    train_datagen = ImageDataGenerator(\n",
    "        rescale=1./255,\n",
    "        rotation_range=20,\n",
    "        width_shift_range=0.1,\n",
    "        height_shift_range=0.1,\n",
    "        shear_range=0.1,\n",
    "        zoom_range=0.1,\n",
    "        horizontal_flip=True,\n",
    "        validation_split=0.25\n",
    "    )\n",
    "\n",
    "    train_gen_flow = train_datagen.flow_from_dataframe(\n",
    "        dataframe=labels,\n",
    "        directory=os.path.join(path, 'final_files'),\n",
    "        x_col='file_name',\n",
    "        y_col='real_age',\n",
    "        target_size=(64, 64),\n",
    "        batch_size=32,\n",
    "        class_mode='raw',   # para regresión\n",
    "        subset='training',\n",
    "        seed=12345\n",
    "    )\n",
    "\n",
    "    return test_gen_flow"
   ]
  },
  {
   "cell_type": "code",
   "execution_count": 16,
   "metadata": {},
   "outputs": [],
   "source": [
    "def create_model(input_shape):\n",
    "    \n",
    "    \"\"\"\n",
    "    Define el modelo\n",
    "    \"\"\"\n",
    "    \n",
    "    # coloca tu código aquí\n",
    "    model = Sequential()\n",
    "    model.add(Conv2D(32, (3, 3), activation='relu', input_shape=input_shape))\n",
    "    model.add(MaxPooling2D(pool_size=(2, 2)))\n",
    "\n",
    "    model.add(Conv2D(64, (3, 3), activation='relu'))\n",
    "    model.add(MaxPooling2D(pool_size=(2, 2)))\n",
    "\n",
    "    model.add(Flatten())\n",
    "    model.add(Dropout(0.3))\n",
    "    model.add(Dense(64, activation='relu'))\n",
    "    model.add(Dense(1, activation='linear'))  # Salida de regresión\n",
    "\n",
    "    model.compile(optimizer=Adam(learning_rate=0.0005),\n",
    "                  loss='mean_squared_error',\n",
    "                  metrics=['mae'])\n",
    "\n",
    "\n",
    "    return model"
   ]
  },
  {
   "cell_type": "markdown",
   "metadata": {},
   "source": [
    "<div class=\"alert alert-block alert-warning\">\n",
    "<b>Celda [16]</b> <a class=\"tocSkip\"></a><br>\n",
    "Al definir el modelo, es fundamental que las capas de la red estén configuradas adecuadamente para el problema de regresión que estás abordando. Asegúrate de que la función de activación en la capa de salida sea apropiada para el rango de valores que esperas predecir, en este caso, una salida lineal es adecuada para la predicción de edades.\n",
    "</div>\n"
   ]
  },
  {
   "cell_type": "code",
   "execution_count": 17,
   "metadata": {},
   "outputs": [],
   "source": [
    "def train_model(model, train_data, test_data, batch_size=None, epochs=20,\n",
    "                steps_per_epoch=None, validation_steps=None):\n",
    "\n",
    "    \"\"\"\n",
    "    Entrena el modelo dados los parámetros\n",
    "    \"\"\"\n",
    "    \n",
    "    # # coloca tu código aquí\n",
    "    if steps_per_epoch is None:\n",
    "        steps_per_epoch = len(train_data)\n",
    "    if validation_steps is None:\n",
    "        validation_steps = len(test_data)\n",
    "\n",
    "    model.fit(train_data,\n",
    "              validation_data=test_data,\n",
    "              epochs=epochs,\n",
    "              steps_per_epoch=steps_per_epoch,\n",
    "              validation_steps=validation_steps,\n",
    "              verbose=2)\n",
    "\n",
    "\n",
    "    return model"
   ]
  },
  {
   "cell_type": "markdown",
   "metadata": {},
   "source": [
    "<div class=\"alert alert-block alert-warning\">\n",
    "<b>Celda [17]</b> <a class=\"tocSkip\"></a><br>\n",
    "Para mejorar la robustez del modelo y evitar el sobreajuste, considera utilizar técnicas de regularización como el Dropout de manera estratégica. Además, implementar una validación cruzada podría ofrecerte una evaluación más completa de la capacidad de generalización del modelo.\n",
    "</div>\n"
   ]
  },
  {
   "cell_type": "markdown",
   "metadata": {},
   "source": [
    "## Prepara el script para ejecutarlo en la plataforma GPU"
   ]
  },
  {
   "cell_type": "markdown",
   "metadata": {},
   "source": [
    "Una vez que hayas definido las funciones necesarias, puedes redactar un script para la plataforma GPU, descargarlo a través del menú \"File|Open...\" (Archivo|Abrir) y cargarlo más tarde para ejecutarlo en la plataforma GPU.\n",
    "\n",
    "Nota: el script debe incluir también la sección de inicialización. A continuación se muestra un ejemplo."
   ]
  },
  {
   "cell_type": "code",
   "execution_count": 18,
   "metadata": {},
   "outputs": [],
   "source": [
    "# prepara un script para ejecutarlo en la plataforma GPU\n",
    "\n",
    "init_str = \"\"\"\n",
    "import pandas as pd\n",
    "\n",
    "import tensorflow as tf\n",
    "\n",
    "from tensorflow.keras.preprocessing.image import ImageDataGenerator\n",
    "from tensorflow.keras.applications.resnet import ResNet50\n",
    "from tensorflow.keras.models import Sequential\n",
    "from tensorflow.keras.layers import GlobalAveragePooling2D, Dense, Dropout, Flatten\n",
    "from tensorflow.keras.optimizers import Adam\n",
    "\"\"\"\n",
    "\n",
    "import inspect\n",
    "\n",
    "with open('run_model_on_gpu.py', 'w') as f:\n",
    "    \n",
    "    f.write(init_str)\n",
    "    f.write('\\n\\n')\n",
    "        \n",
    "    for fn_name in [load_train, load_test, create_model, train_model]:\n",
    "        \n",
    "        src = inspect.getsource(fn_name)\n",
    "        f.write(src)\n",
    "        f.write('\\n\\n')"
   ]
  },
  {
   "cell_type": "markdown",
   "metadata": {},
   "source": [
    "### El resultado"
   ]
  },
  {
   "cell_type": "markdown",
   "metadata": {},
   "source": [
    "Coloca el resultado de la plataforma GPU como una celda Markdown aquí."
   ]
  },
  {
   "cell_type": "code",
   "execution_count": 22,
   "metadata": {},
   "outputs": [],
   "source": [
    "!python run_model_on_gpu.py"
   ]
  },
  {
   "cell_type": "markdown",
   "metadata": {},
   "source": [
    "## Conclusiones"
   ]
  },
  {
   "cell_type": "markdown",
   "metadata": {},
   "source": [
    "##### **Este proyecto tubimos que predecir la edad real de personas a partir de imágenes faciales usando redes neuronales convolucionales (CNN).**\n",
    "\n",
    "##### **1.-Se utilizó un conjunto de imagenes de mas de 7600 con fotos de personas con forme a su edad**\n",
    "##### **2.-Se evitó la carga completa del conjunto en memoria mediante el uso de `ImageDataGenerator`, lo que permitió entrenamiento eficiente incluso en plataformas.**\n",
    "##### **3.-Se aplicó **data augmentation** para mejorar la generalización y prevenir el sobreajuste.**\n",
    "##### **4.-El modelo fue entrenado en GPU y se comportó de manera estable, mostrando convergencia constante en la métrica `mae`.**"
   ]
  },
  {
   "cell_type": "markdown",
   "metadata": {},
   "source": [
    "# Lista de control"
   ]
  },
  {
   "cell_type": "markdown",
   "metadata": {},
   "source": [
    "- [x]  El Notebook estaba abierto \n",
    "- [x]  El código no tiene errores\n",
    "- [x]  Las celdas con el código han sido colocadas en el orden de ejecución\n",
    "- [x]  Se realizó el análisis exploratorio de datos \n",
    "- [x]  Los resultados del análisis exploratorio de datos se presentan en el notebook final \n",
    "- [x]  El valor EAM del modelo no es superior a 8 \n",
    "- [x]  El código de entrenamiento del modelo se copió en el notebook final \n",
    "- [x]  El resultado de entrenamiento del modelo se copió en el notebook final \n",
    "- [x] Los hallazgos se proporcionaron con base en los resultados del entrenamiento del modelo"
   ]
  },
  {
   "cell_type": "code",
   "execution_count": null,
   "metadata": {},
   "outputs": [],
   "source": []
  },
  {
   "cell_type": "markdown",
   "metadata": {},
   "source": [
    "<div class=\"alert alert-block alert-success\">\n",
    "<b>Comentario final</b> <a class=\"tocSkip\"></a><br>\n",
    "¡Excelente trabajo, Daniel! Has demostrado una comprensión sólida de los pasos necesarios para preparar y analizar un dataset de imágenes. Aquí algunos puntos destacados:<br><br>\n",
    "• Carga y exploración inicial del dataset de manera efectiva.<br>\n",
    "• Verificación de duplicados y valores nulos para asegurar la calidad de los datos.<br>\n",
    "• Visualización de la distribución de edades con histogramas y gráficos de caja.<br>\n",
    "• Implementación de un modelo de red neuronal con capas adecuadas para el problema.<br>\n",
    "• Uso de técnicas de aumento de datos para mejorar la generalización del modelo.<br>\n",
    "• Separación adecuada de los conjuntos de entrenamiento y validación.<br>\n",
    "• Inclusión de comentarios claros y descriptivos en el código.<br>\n",
    "• Uso de funciones bien definidas para la carga y procesamiento de datos.<br>\n",
    "• Implementación de una estructura de código modular y organizada.<br>\n",
    "• Comprensión y aplicación de técnicas de preprocesamiento de imágenes.<br>\n",
    "¡Felicidades!\n",
    "</div>\n"
   ]
  },
  {
   "cell_type": "code",
   "execution_count": null,
   "metadata": {},
   "outputs": [],
   "source": []
  }
 ],
 "metadata": {
  "kernelspec": {
   "display_name": "Python 3 (ipykernel)",
   "language": "python",
   "name": "python3"
  },
  "language_info": {
   "codemirror_mode": {
    "name": "ipython",
    "version": 3
   },
   "file_extension": ".py",
   "mimetype": "text/x-python",
   "name": "python",
   "nbconvert_exporter": "python",
   "pygments_lexer": "ipython3",
   "version": "3.9.23"
  },
  "toc": {
   "base_numbering": 1,
   "nav_menu": {},
   "number_sections": true,
   "sideBar": true,
   "skip_h1_title": true,
   "title_cell": "Table of Contents",
   "title_sidebar": "Contents",
   "toc_cell": false,
   "toc_position": {},
   "toc_section_display": true,
   "toc_window_display": false
  }
 },
 "nbformat": 4,
 "nbformat_minor": 4
}
